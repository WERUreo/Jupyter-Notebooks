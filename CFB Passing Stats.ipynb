{
 "cells": [
  {
   "cell_type": "code",
   "execution_count": 1,
   "metadata": {
    "collapsed": true
   },
   "outputs": [],
   "source": [
    "import numpy as np\n",
    "import pandas as pd\n",
    "from pandas import Series,DataFrame\n",
    "from pandas import read_html"
   ]
  },
  {
   "cell_type": "code",
   "execution_count": 2,
   "metadata": {
    "collapsed": true
   },
   "outputs": [],
   "source": [
    "url = 'http://espn.go.com/college-football/statistics/player/_/stat/passing'\n",
    "url2 = 'http://espn.go.com/college-football/statistics/player/_/stat/passing/sort/passingYards/qualified/false/count/41'\n",
    "url3 = 'http://espn.go.com/college-football/statistics/player/_/stat/passing/sort/passingYards/qualified/false/count/81'\n",
    "url4 = 'http://espn.go.com/college-football/statistics/player/_/stat/passing/sort/passingYards/qualified/false/count/121'\n",
    "url5 = 'http://espn.go.com/college-football/statistics/player/_/stat/passing/sort/passingYards/qualified/false/count/161'\n",
    "url6 = 'http://espn.go.com/college-football/statistics/player/_/stat/passing/sort/passingYards/qualified/false/count/201'\n",
    "url7 = 'http://espn.go.com/college-football/statistics/player/_/stat/passing/sort/passingYards/qualified/false/count/241'\n",
    "url8 = 'http://espn.go.com/college-football/statistics/player/_/stat/passing/sort/passingYards/qualified/false/count/281'\n",
    "url9 = 'http://espn.go.com/college-football/statistics/player/_/stat/passing/sort/passingYards/qualified/false/count/321'\n",
    "url10 = 'http://espn.go.com/college-football/statistics/player/_/stat/passing/sort/passingYards/qualified/false/count/361'\n",
    "url11 = 'http://espn.go.com/college-football/statistics/player/_/stat/passing/sort/passingYards/qualified/false/count/401'\n",
    "url12 = 'http://espn.go.com/college-football/statistics/player/_/stat/passing/sort/passingYards/qualified/false/count/441'\n",
    "url13 = 'http://espn.go.com/college-football/statistics/player/_/stat/passing/sort/passingYards/qualified/false/count/481'"
   ]
  },
  {
   "cell_type": "code",
   "execution_count": 3,
   "metadata": {
    "collapsed": true
   },
   "outputs": [],
   "source": [
    "dframe_list = pd.io.html.read_html(url)\n",
    "dframe_list2 = pd.io.html.read_html(url2)\n",
    "dframe_list3 = pd.io.html.read_html(url3)\n",
    "dframe_list4 = pd.io.html.read_html(url4)\n",
    "dframe_list5 = pd.io.html.read_html(url5)\n",
    "dframe_list6 = pd.io.html.read_html(url6)\n",
    "dframe_list7 = pd.io.html.read_html(url7)\n",
    "dframe_list8 = pd.io.html.read_html(url8)\n",
    "dframe_list9 = pd.io.html.read_html(url9)\n",
    "dframe_list10 = pd.io.html.read_html(url10)\n",
    "dframe_list11 = pd.io.html.read_html(url11)\n",
    "dframe_list12 = pd.io.html.read_html(url12)\n",
    "dframe_list13 = pd.io.html.read_html(url13)"
   ]
  },
  {
   "cell_type": "code",
   "execution_count": 4,
   "metadata": {
    "collapsed": false
   },
   "outputs": [],
   "source": [
    "dframe = dframe_list[0]\n",
    "dframe = dframe.append(dframe_list2[0],ignore_index=True)\n"
   ]
  },
  {
   "cell_type": "code",
   "execution_count": 6,
   "metadata": {
    "collapsed": false
   },
   "outputs": [],
   "source": [
    "dframe = dframe.append(dframe_list3[0],ignore_index=True)\n",
    "dframe = dframe.append(dframe_list4[0],ignore_index=True)\n",
    "dframe = dframe.append(dframe_list5[0],ignore_index=True)\n",
    "dframe = dframe.append(dframe_list6[0],ignore_index=True)\n",
    "dframe = dframe.append(dframe_list7[0],ignore_index=True)\n",
    "dframe = dframe.append(dframe_list8[0],ignore_index=True)\n",
    "dframe = dframe.append(dframe_list9[0],ignore_index=True)\n",
    "dframe = dframe.append(dframe_list10[0],ignore_index=True)\n",
    "dframe = dframe.append(dframe_list11[0],ignore_index=True)\n",
    "dframe = dframe.append(dframe_list12[0],ignore_index=True)\n",
    "dframe = dframe.append(dframe_list13[0],ignore_index=True)\n"
   ]
  },
  {
   "cell_type": "code",
   "execution_count": 10,
   "metadata": {
    "collapsed": false
   },
   "outputs": [],
   "source": [
    "dframe.to_csv('passing_stats.csv',ignore_index=True)"
   ]
  },
  {
   "cell_type": "code",
   "execution_count": null,
   "metadata": {
    "collapsed": false
   },
   "outputs": [],
   "source": []
  },
  {
   "cell_type": "code",
   "execution_count": null,
   "metadata": {
    "collapsed": true
   },
   "outputs": [],
   "source": []
  },
  {
   "cell_type": "code",
   "execution_count": null,
   "metadata": {
    "collapsed": false
   },
   "outputs": [],
   "source": []
  },
  {
   "cell_type": "code",
   "execution_count": null,
   "metadata": {
    "collapsed": true
   },
   "outputs": [],
   "source": []
  }
 ],
 "metadata": {
  "kernelspec": {
   "display_name": "Python 2",
   "language": "python",
   "name": "python2"
  },
  "language_info": {
   "codemirror_mode": {
    "name": "ipython",
    "version": 2
   },
   "file_extension": ".py",
   "mimetype": "text/x-python",
   "name": "python",
   "nbconvert_exporter": "python",
   "pygments_lexer": "ipython2",
   "version": "2.7.10"
  }
 },
 "nbformat": 4,
 "nbformat_minor": 0
}
